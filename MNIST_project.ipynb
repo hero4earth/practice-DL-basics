{
 "cells": [
  {
   "cell_type": "code",
   "execution_count": 1,
   "metadata": {
    "collapsed": true
   },
   "outputs": [],
   "source": [
    "import matplotlib.pyplot as plt\n",
    "import random\n",
    "import tensorflow as tf\n",
    "import os\n",
    "from tensorflow.examples.tutorials.mnist import input_data"
   ]
  },
  {
   "cell_type": "code",
   "execution_count": 2,
   "metadata": {},
   "outputs": [
    {
     "name": "stdout",
     "output_type": "stream",
     "text": [
      "Successfully downloaded train-images-idx3-ubyte.gz 9912422 bytes.\n",
      "Extracting /tmp/tensorflow/mnist/input_data/train-images-idx3-ubyte.gz\n",
      "Successfully downloaded train-labels-idx1-ubyte.gz 28881 bytes.\n",
      "Extracting /tmp/tensorflow/mnist/input_data/train-labels-idx1-ubyte.gz\n",
      "Successfully downloaded t10k-images-idx3-ubyte.gz 1648877 bytes.\n",
      "Extracting /tmp/tensorflow/mnist/input_data/t10k-images-idx3-ubyte.gz\n",
      "Successfully downloaded t10k-labels-idx1-ubyte.gz 4542 bytes.\n",
      "Extracting /tmp/tensorflow/mnist/input_data/t10k-labels-idx1-ubyte.gz\n"
     ]
    }
   ],
   "source": [
    "mnist = input_data.read_data_sets('/tmp/tensorflow/mnist/input_data', one_hot=True)"
   ]
  },
  {
   "cell_type": "code",
   "execution_count": 3,
   "metadata": {
    "collapsed": true
   },
   "outputs": [],
   "source": [
    "# Create the model"
   ]
  },
  {
   "cell_type": "code",
   "execution_count": 4,
   "metadata": {
    "collapsed": true
   },
   "outputs": [],
   "source": [
    "# 0부터 9까지 10개의 클래스"
   ]
  },
  {
   "cell_type": "code",
   "execution_count": 5,
   "metadata": {
    "collapsed": true
   },
   "outputs": [],
   "source": [
    "nb_classes = 10"
   ]
  },
  {
   "cell_type": "code",
   "execution_count": 6,
   "metadata": {
    "collapsed": true
   },
   "outputs": [],
   "source": [
    "# tensorflow graph input\n",
    "x = tf.placeholder(tf.float32, [None, 784]) # mnist data image of shape 28 * 28 = 784\n",
    "W = tf.Variable(tf.zeros([784, nb_classes]))\n",
    "b = tf.Variable(tf.zeros([nb_classes]))\n",
    "y = tf.nn.softmax(tf.matmul(x, W)+b)"
   ]
  },
  {
   "cell_type": "code",
   "execution_count": 7,
   "metadata": {
    "collapsed": true
   },
   "outputs": [],
   "source": [
    "# cross-entrophy 모델 설정"
   ]
  },
  {
   "cell_type": "code",
   "execution_count": 8,
   "metadata": {
    "collapsed": true
   },
   "outputs": [],
   "source": [
    "y_ = tf.placeholder(tf.float32, [None, nb_classes])\n",
    "learning_rate = 0.5\n",
    "cross_entropy = tf.reduce_mean(-tf.reduce_sum(y_ * tf.log(y), reduction_indices=[1]))\n",
    "train_step = tf.train.GradientDescentOptimizer(learning_rate).minimize(cross_entropy)"
   ]
  },
  {
   "cell_type": "code",
   "execution_count": 9,
   "metadata": {
    "collapsed": true
   },
   "outputs": [],
   "source": [
    "# 모델 학습"
   ]
  },
  {
   "cell_type": "code",
   "execution_count": 10,
   "metadata": {
    "collapsed": true
   },
   "outputs": [],
   "source": [
    "# y, y_의 arg_max 값이 같은지 True, False로 확인"
   ]
  },
  {
   "cell_type": "code",
   "execution_count": 11,
   "metadata": {
    "collapsed": true
   },
   "outputs": [],
   "source": [
    "is_correct = tf.equal(tf.arg_max(y, 1), tf.arg_max(y_, 1))"
   ]
  },
  {
   "cell_type": "code",
   "execution_count": 12,
   "metadata": {
    "collapsed": true
   },
   "outputs": [],
   "source": [
    "# Accuracy 계산\n",
    "# is_correct를 float 형으로 바꾸어 평균 계산"
   ]
  },
  {
   "cell_type": "code",
   "execution_count": 13,
   "metadata": {
    "collapsed": true
   },
   "outputs": [],
   "source": [
    "accuracy = tf.reduce_mean(tf.cast(is_correct, tf.float32))"
   ]
  },
  {
   "cell_type": "code",
   "execution_count": 14,
   "metadata": {
    "collapsed": true
   },
   "outputs": [],
   "source": [
    "training_epochs = 20\n",
    "batch_size = 100"
   ]
  },
  {
   "cell_type": "code",
   "execution_count": 19,
   "metadata": {},
   "outputs": [
    {
     "name": "stdout",
     "output_type": "stream",
     "text": [
      "Epoch: 0001 cost=  0.400694\n",
      "Epoch: 0002 cost=  0.310156\n",
      "Epoch: 0003 cost=  0.294095\n",
      "Epoch: 0004 cost=  0.286841\n",
      "Epoch: 0005 cost=  0.281211\n",
      "Epoch: 0006 cost=  0.277339\n",
      "Epoch: 0007 cost=  0.274427\n",
      "Epoch: 0008 cost=  0.271445\n",
      "Epoch: 0009 cost=  0.269603\n",
      "Epoch: 0010 cost=  0.267307\n",
      "Epoch: 0011 cost=  0.266410\n",
      "Epoch: 0012 cost=  0.264666\n",
      "Epoch: 0013 cost=  0.262866\n",
      "Epoch: 0014 cost=  0.262170\n",
      "Epoch: 0015 cost=  0.260775\n",
      "Epoch: 0016 cost=  0.259445\n",
      "Epoch: 0017 cost=  0.258885\n",
      "Epoch: 0018 cost=  0.258445\n",
      "Epoch: 0019 cost=  0.256971\n",
      "Epoch: 0020 cost=  0.256920\n",
      "Traing Finish\n",
      "Accuracy: 0.9251\n",
      "Label: [7]\n",
      "Prediction: [7]\n"
     ]
    },
    {
     "data": {
      "image/png": "[encoded data removed]",
      "text/plain": [
       "<matplotlib.figure.Figure at 0x126bce518>"
      ]
     },
     "metadata": {},
     "output_type": "display_data"
    },
    {
     "name": "stdout",
     "output_type": "stream",
     "text": [
      "/Users/Eddy/Dropbox/Python/MNIST_Project\n",
      "Model saved in file:  ./mnist_softmax.ckpt\n"
     ]
    }
   ],
   "source": [
    "# 세션 열기\n",
    "with tf.Session() as sess:\n",
    "    sess.run(tf.global_variables_initializer())\n",
    "    \n",
    "    # Training Cycle\n",
    "    # 15번 학습\n",
    "    \n",
    "    for epoch in range(training_epochs):\n",
    "        avg_cost = 0\n",
    "        \n",
    "        # 전체 Size를 batch_size fh wkffktj gkrtmq\n",
    "        # 한번에 몇 개씩 학습할 것인지 설정\n",
    "        total_batch = int(mnist.train.num_examples/batch_size)\n",
    "        \n",
    "        for i in range(total_batch):\n",
    "            # x_data, y_data\n",
    "            batch_xs, batch__ys = mnist.train.next_batch(batch_size)\n",
    "            #cost 계산\n",
    "            c,_ = sess.run([cross_entropy, train_step], feed_dict={x:batch_xs, y_:batch__ys})\n",
    "            # batch_size만큼 나눠서 avg_cost의 합 계산\n",
    "            avg_cost += c/total_batch\n",
    "            \n",
    "        print('Epoch:', '%04d' % (epoch+1), 'cost=', '{:9f}'.format(avg_cost))\n",
    "        \n",
    "    print(\"Traing Finish\")\n",
    "    print(\"Accuracy:\", accuracy.eval(session= sess, feed_dict={x: mnist.test.images, y_:mnist.test.labels}))\n",
    "\n",
    "    # Random 숫자 읽기\n",
    "    r = random.randint(0, mnist.test.num_examples-1)\n",
    "\n",
    "     # Test할 data 숫자 읽기\n",
    "    print(\"Label:\", sess.run(tf.argmax(mnist.test.labels[r:r+1], 1)))\n",
    "    \n",
    "    # Hypothesis 대립\n",
    "    print(\"Prediction:\", sess.run(tf.argmax(y, 1), feed_dict={x:mnist.test.images[r:r+1]}))\n",
    "    \n",
    "    plt.imshow(mnist.test.images[r:r+1].reshape(28,28), cmap='Greys', interpolation= 'nearest')\n",
    "    plt.show()\n",
    "    \n",
    "    # 모델 저장\n",
    "    saver = tf.train.Saver()\n",
    "    save_path = saver.save(sess, \"./mnist_softmax.ckpt\")\n",
    "\n",
    "\n",
    "    print (os.getcwd())\n",
    "    print(\"Model saved in file: \", save_path)"
   ]
  },
  {
   "cell_type": "code",
   "execution_count": null,
   "metadata": {
    "collapsed": true
   },
   "outputs": [],
   "source": []
  },
  {
   "cell_type": "code",
   "execution_count": null,
   "metadata": {
    "collapsed": true
   },
   "outputs": [],
   "source": []
  },
  {
   "cell_type": "code",
   "execution_count": null,
   "metadata": {
    "collapsed": true
   },
   "outputs": [],
   "source": []
  },
  {
   "cell_type": "code",
   "execution_count": null,
   "metadata": {
    "collapsed": true
   },
   "outputs": [],
   "source": []
  }
 ],
 "metadata": {
  "kernelspec": {
   "display_name": "Python 3",
   "language": "python",
   "name": "python3"
  },
  "language_info": {
   "codemirror_mode": {
    "name": "ipython",
    "version": 3
   },
   "file_extension": ".py",
   "mimetype": "text/x-python",
   "name": "python",
   "nbconvert_exporter": "python",
   "pygments_lexer": "ipython3",
   "version": "3.5.1"
  }
 },
 "nbformat": 4,
 "nbformat_minor": 2
}
