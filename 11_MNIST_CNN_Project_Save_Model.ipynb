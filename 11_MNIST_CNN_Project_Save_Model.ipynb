{
 "cells": [
  {
   "cell_type": "markdown",
   "metadata": {},
   "source": [
    "# MNIST CNN Project - Saving Model"
   ]
  },
  {
   "cell_type": "code",
   "execution_count": 1,
   "metadata": {
    "collapsed": true
   },
   "outputs": [],
   "source": [
    "import tensorflow as tf\n",
    "from tensorflow.examples.tutorials.mnist import input_data\n",
    "import numpy as np\n",
    "import matplotlib.pyplot as plt\n",
    "%matplotlib inline"
   ]
  },
  {
   "cell_type": "markdown",
   "metadata": {},
   "source": [
    "#### 데이터 로딩(Load Data)"
   ]
  },
  {
   "cell_type": "code",
   "execution_count": 2,
   "metadata": {
    "scrolled": true
   },
   "outputs": [
    {
     "name": "stdout",
     "output_type": "stream",
     "text": [
      "Extracting MNIST_data/train-images-idx3-ubyte.gz\n",
      "Extracting MNIST_data/train-labels-idx1-ubyte.gz\n",
      "Extracting MNIST_data/t10k-images-idx3-ubyte.gz\n",
      "Extracting MNIST_data/t10k-labels-idx1-ubyte.gz\n"
     ]
    }
   ],
   "source": [
    "mnist = input_data.read_data_sets(\"MNIST_data/\", one_hot=True)"
   ]
  },
  {
   "cell_type": "markdown",
   "metadata": {},
   "source": [
    "#### 하이퍼 파라미터 설정"
   ]
  },
  {
   "cell_type": "code",
   "execution_count": 3,
   "metadata": {
    "collapsed": true
   },
   "outputs": [],
   "source": [
    "# Hyper Prarameters\n",
    "training_epochs = 15\n",
    "batch_size = 100\n",
    "learning_rate = 0.001"
   ]
  },
  {
   "cell_type": "code",
   "execution_count": 4,
   "metadata": {
    "collapsed": true
   },
   "outputs": [],
   "source": [
    "class Model:\n",
    "    \n",
    "    def __init__(self, sess, name):\n",
    "        self.sess = sess\n",
    "        self.name = name\n",
    "        self._build_net()\n",
    "        \n",
    "    def _build_net(self):\n",
    "        \n",
    "        # 입력 받은 이름으로 변수 명을 설정한다.\n",
    "        with tf.variable_scope(self.name):\n",
    "            \n",
    "            # Boolean Tensor 생성 for dropout\n",
    "            # tf.layers.dropout( training= True/Fals) True/False에 따라서 학습인지 / 예측인지 선택하게 됨\n",
    "            # default = False\n",
    "            self.training = tf.placeholder(tf.bool)\n",
    "            \n",
    "            # 입력 그래프 생성\n",
    "            self.X = tf.placeholder(tf.float32, [None, 784])\n",
    "            # 28x28x1로 사이즈 변환\n",
    "            X_img = tf.reshape(self.X, [-1, 28, 28, 1])\n",
    "            self.Y = tf.placeholder(tf.float32, [None, 10])\n",
    "            \n",
    "            # Convolutional Layer1 \n",
    "            conv1 = tf.layers.conv2d(inputs=X_img, filters=32, kernel_size=[3,3], padding='SAME', activation=tf.nn.relu)\n",
    "            # Pooling Layer1\n",
    "            pool1 = tf.layers.max_pooling2d(inputs=conv1, pool_size=[2,2], strides=2, padding=\"SAME\" )\n",
    "            # Dropout Layer1\n",
    "            dropout1 = tf.layers.dropout(inputs=pool1, rate=0.7, training=self.training)\n",
    "            \n",
    "\n",
    "            # Convolutional Layer2\n",
    "            conv2 = tf.layers.conv2d(inputs=dropout1, filters=64, kernel_size=[3,3], padding='SAME', activation=tf.nn.relu)\n",
    "            # Pooling Layer2\n",
    "            pool2 = tf.layers.max_pooling2d(inputs=conv2, pool_size=[2,2],strides=2, padding='SAME' )\n",
    "            # Dropout Layer2\n",
    "            dropout2 = tf.layers.dropout(inputs=pool2, rate=0.7, training=self.training)\n",
    "            \n",
    "            \n",
    "            # Convolutional Layer3\n",
    "            conv3 = tf.layers.conv2d(inputs=dropout2, filters=128, kernel_size=[3, 3], padding='SAME', activation=tf.nn.relu)\n",
    "            # Pooling Layer3\n",
    "            pool3 = tf.layers.max_pooling2d(inputs=conv3, pool_size=[2,2], strides=2, padding='SAME')\n",
    "            # Dropout Layer3\n",
    "            dropout3 = tf.layers.dropout(inputs=pool3, rate=0.7, training=self.training)\n",
    "            \n",
    "            # Dense Layer4 with Relu\n",
    "            flat = tf.reshape(dropout3, [-1, 128*4*4])\n",
    "            dense4 = tf.layers.dense(inputs=flat, units=625, activation=tf.nn.relu)\n",
    "            # Dropout layer4\n",
    "            dropout4 = tf.layers.dropout(inputs=dense4, rate=0.5, training=self.training)\n",
    "            \n",
    "            # Dense Layer5 with Relu\n",
    "            dense5 = tf.layers.dense(inputs=dropout4, units=1050, activation=tf.nn.relu)\n",
    "            # Dropout Layer5\n",
    "            dropout5 = tf.layers.dropout(inputs=dense5, rate=0.5, training=self.training)\n",
    "            \n",
    "            \n",
    "            # Logits layer : Final FC Layer5 Shape = (?, 625) -> 10\n",
    "            self.logits = tf.layers.dense(inputs=dropout5, units=10)\n",
    "\n",
    "        # Cost Function\n",
    "        self.cost = tf.reduce_mean(tf.nn.softmax_cross_entropy_with_logits(logits=self.logits, labels=self.Y))\n",
    "        self.optimizer = tf.train.AdamOptimizer(learning_rate=learning_rate).minimize(self.cost)\n",
    "        \n",
    "        # Test Model\n",
    "        correct_prediction = tf.equal(tf.argmax(self.logits, 1), tf.argmax(self.Y, 1))\n",
    "        self.accuracy = tf.reduce_mean(tf.cast(correct_prediction, tf.float32))\n",
    "            \n",
    "    def train(self, x_data, y_data, training = False):\n",
    "        return self.sess.run([self.cost, self.optimizer], feed_dict={self.X: x_data, self.Y:y_data, self.training:training})\n",
    "    \n",
    "    def predict(self, x_test, training = False):\n",
    "        return self.sess.run(self.logits, feed_dict={self.X : x_test, self.training:training})\n",
    "    \n",
    "    def get_accuracy(self, x_test, y_test, training=False):\n",
    "        return self.sess.run(self.accuracy, feed_dict={self.X: x_test, self.Y : y_test, self.training: training})"
   ]
  },
  {
   "cell_type": "markdown",
   "metadata": {},
   "source": [
    "#### 세션 생성"
   ]
  },
  {
   "cell_type": "code",
   "execution_count": 5,
   "metadata": {
    "collapsed": true
   },
   "outputs": [],
   "source": [
    "# Initialize\n",
    "sess = tf.Session()"
   ]
  },
  {
   "cell_type": "markdown",
   "metadata": {},
   "source": [
    "#### Ensemble"
   ]
  },
  {
   "cell_type": "code",
   "execution_count": 6,
   "metadata": {
    "collapsed": true,
    "scrolled": false
   },
   "outputs": [],
   "source": [
    "models = []\n",
    "num_models = 5\n",
    "for m in range(num_models):\n",
    "    models.append(Model(sess, \"model\"+str(m)))"
   ]
  },
  {
   "cell_type": "markdown",
   "metadata": {},
   "source": [
    "#### 학습"
   ]
  },
  {
   "cell_type": "code",
   "execution_count": 7,
   "metadata": {
    "collapsed": true
   },
   "outputs": [],
   "source": [
    "sess.run(tf.global_variables_initializer())"
   ]
  },
  {
   "cell_type": "code",
   "execution_count": 8,
   "metadata": {},
   "outputs": [
    {
     "name": "stdout",
     "output_type": "stream",
     "text": [
      "Epoch:  0001 Cost =  [ 0.16365541  0.15805094  0.15816862  0.16383813  0.16415393]\n",
      "Epoch:  0002 Cost =  [ 0.04496201  0.0429047   0.04390503  0.04575218  0.04640629]\n",
      "Epoch:  0003 Cost =  [ 0.03376844  0.03230815  0.03093393  0.0311225   0.03254555]\n",
      "Epoch:  0004 Cost =  [ 0.02652556  0.02339662  0.02443642  0.02445769  0.02463311]\n",
      "Epoch:  0005 Cost =  [ 0.0198066   0.01852332  0.01969138  0.01961155  0.0213654 ]\n",
      "Epoch:  0006 Cost =  [ 0.0176054   0.01526843  0.01563099  0.01782834  0.01737436]\n",
      "Epoch:  0007 Cost =  [ 0.01473158  0.01403986  0.01337373  0.01477611  0.01201437]\n",
      "Epoch:  0008 Cost =  [ 0.01506129  0.01503563  0.0140624   0.01302052  0.01405509]\n",
      "Epoch:  0009 Cost =  [ 0.01078236  0.01027405  0.01193813  0.01211779  0.0119099 ]\n",
      "Epoch:  0010 Cost =  [ 0.01193268  0.0116962   0.01067205  0.01128916  0.0125835 ]\n",
      "Epoch:  0011 Cost =  [ 0.00784031  0.0101482   0.00891004  0.01000892  0.01003456]\n",
      "Epoch:  0012 Cost =  [ 0.00956921  0.00852514  0.01168503  0.00831856  0.00963581]\n",
      "Epoch:  0013 Cost =  [ 0.01028836  0.00794768  0.0052012   0.00923114  0.00755404]\n",
      "Epoch:  0014 Cost =  [ 0.00832863  0.00841471  0.01017939  0.00869219  0.01102423]\n",
      "Epoch:  0015 Cost =  [ 0.00701145  0.00803191  0.00734568  0.0069111   0.00499205]\n",
      "Training Finished\n"
     ]
    }
   ],
   "source": [
    "for epoch in range(training_epochs):\n",
    "    avg_cost_list = np.zeros(len(models))\n",
    "    total_batch = int(mnist.train.num_examples / batch_size)\n",
    "    \n",
    "    for i in range(total_batch):\n",
    "        batch_xs, batch_ys = mnist.train.next_batch(batch_size)\n",
    "        \n",
    "        # Train each model\n",
    "        for m_idx, m in enumerate(models):\n",
    "            c, _ = m.train(batch_xs, batch_ys)\n",
    "            avg_cost_list[m_idx] += c / total_batch\n",
    "        \n",
    "    print('Epoch: ', '%04d' %(epoch + 1), 'Cost = ', avg_cost_list)\n",
    "print('Training Finished')"
   ]
  },
  {
   "cell_type": "markdown",
   "metadata": {},
   "source": [
    "#### 테스트 모델"
   ]
  },
  {
   "cell_type": "code",
   "execution_count": 30,
   "metadata": {
    "collapsed": true
   },
   "outputs": [],
   "source": [
    "test_size = len(mnist.test.labels)\n",
    "predictions = np.zeros([test_size, 10])\n",
    "best_models = []"
   ]
  },
  {
   "cell_type": "code",
   "execution_count": 31,
   "metadata": {},
   "outputs": [
    {
     "name": "stdout",
     "output_type": "stream",
     "text": [
      "0 Accuracy:  0.9925\n",
      "1 Accuracy:  0.9918\n",
      "2 Accuracy:  0.9923\n",
      "3 Accuracy:  0.9928\n",
      "4 Accuracy:  0.9901\n"
     ]
    }
   ],
   "source": [
    "for m_idx, m in enumerate(models):\n",
    "    best_models.append(m.get_accuracy(mnist.test.images, mnist.test.labels))\n",
    "    print(m_idx, 'Accuracy: ', best_models[m_idx] )\n",
    "    p = m.predict(mnist.test.images)\n",
    "    predictions += p "
   ]
  },
  {
   "cell_type": "code",
   "execution_count": 32,
   "metadata": {},
   "outputs": [
    {
     "name": "stdout",
     "output_type": "stream",
     "text": [
      "Ensemble accuracy: 0.9954\n"
     ]
    }
   ],
   "source": [
    "ensemble_correct_prediction = tf.equal(tf.argmax(predictions, 1), tf.argmax(mnist.test.labels, 1))\n",
    "ensemble_accuracy = tf.reduce_mean(tf.cast(ensemble_correct_prediction, tf.float32))\n",
    "print('Ensemble accuracy:', sess.run(ensemble_accuracy))"
   ]
  },
  {
   "cell_type": "markdown",
   "metadata": {
    "collapsed": true
   },
   "source": [
    "#### 모델 저장"
   ]
  },
  {
   "cell_type": "markdown",
   "metadata": {},
   "source": [
    "- 5개의 모델 중 가장 뛰어난 모델 선택 후 저장"
   ]
  },
  {
   "cell_type": "code",
   "execution_count": 39,
   "metadata": {
    "collapsed": true,
    "scrolled": true
   },
   "outputs": [],
   "source": [
    "best_model = models[np.argmax(best_models)]"
   ]
  },
  {
   "cell_type": "code",
   "execution_count": 51,
   "metadata": {},
   "outputs": [
    {
     "name": "stdout",
     "output_type": "stream",
     "text": [
      "Model saved to ./mnist_cnn.ckpt\n"
     ]
    }
   ],
   "source": [
    "saver = tf.train.Saver()\n",
    "save_path = saver.save(best_model.sess, './mnist_cnn.ckpt')\n",
    "print(\"Model saved to %s\" % save_path)"
   ]
  },
  {
   "cell_type": "markdown",
   "metadata": {},
   "source": [
    "#### 모델 직접 테스트"
   ]
  },
  {
   "cell_type": "markdown",
   "metadata": {},
   "source": [
    "- Validation Data에서 임의의 mnist 데이터 불러오기"
   ]
  },
  {
   "cell_type": "code",
   "execution_count": 45,
   "metadata": {
    "scrolled": false
   },
   "outputs": [
    {
     "data": {
      "text/plain": [
       "<matplotlib.image.AxesImage at 0x1293080f0>"
      ]
     },
     "execution_count": 45,
     "metadata": {},
     "output_type": "execute_result"
    },
    {
     "data": {
      "image/png": "[encoded data removed]",
      "text/plain": [
       "<matplotlib.figure.Figure at 0x128666128>"
      ]
     },
     "metadata": {},
     "output_type": "display_data"
    }
   ],
   "source": [
    "image_a = mnist.validation.images[np.random.randint(0, len(mnist.validation.images))]\n",
    "plt.imshow(image_a.reshape([28, 28]), cmap='Greys')"
   ]
  },
  {
   "cell_type": "code",
   "execution_count": 49,
   "metadata": {},
   "outputs": [
    {
     "name": "stdout",
     "output_type": "stream",
     "text": [
      "MNIST predicted Number :  7\n"
     ]
    }
   ],
   "source": [
    "image_a = image_a.reshape([1, 784])\n",
    "print(\"MNIST predicted Number : \", np.argmax(best_model.predict(image_a)))"
   ]
  },
  {
   "cell_type": "markdown",
   "metadata": {},
   "source": [
    "#### 참고 사항\n",
    "- Tensor 이름 확인(Tensor 이름을 정의하지 않았을 때)"
   ]
  },
  {
   "cell_type": "code",
   "execution_count": 58,
   "metadata": {},
   "outputs": [
    {
     "data": {
      "text/plain": [
       "<tf.Tensor 'model3/dense_3/BiasAdd:0' shape=(?, 10) dtype=float32>"
      ]
     },
     "execution_count": 58,
     "metadata": {},
     "output_type": "execute_result"
    }
   ],
   "source": [
    "best_model.logits"
   ]
  },
  {
   "cell_type": "code",
   "execution_count": 59,
   "metadata": {},
   "outputs": [
    {
     "data": {
      "text/plain": [
       "<tf.Tensor 'model3/Placeholder_1:0' shape=(?, 784) dtype=float32>"
      ]
     },
     "execution_count": 59,
     "metadata": {},
     "output_type": "execute_result"
    }
   ],
   "source": [
    "best_model.X"
   ]
  },
  {
   "cell_type": "code",
   "execution_count": 60,
   "metadata": {},
   "outputs": [
    {
     "data": {
      "text/plain": [
       "<tf.Tensor 'model3/Placeholder:0' shape=<unknown> dtype=bool>"
      ]
     },
     "execution_count": 60,
     "metadata": {},
     "output_type": "execute_result"
    }
   ],
   "source": [
    "best_model.training"
   ]
  },
  {
   "cell_type": "code",
   "execution_count": null,
   "metadata": {
    "collapsed": true
   },
   "outputs": [],
   "source": []
  }
 ],
 "metadata": {
  "kernelspec": {
   "display_name": "Python 3",
   "language": "python",
   "name": "python3"
  },
  "language_info": {
   "codemirror_mode": {
    "name": "ipython",
    "version": 3
   },
   "file_extension": ".py",
   "mimetype": "text/x-python",
   "name": "python",
   "nbconvert_exporter": "python",
   "pygments_lexer": "ipython3",
   "version": "3.5.1"
  }
 },
 "nbformat": 4,
 "nbformat_minor": 2
}
