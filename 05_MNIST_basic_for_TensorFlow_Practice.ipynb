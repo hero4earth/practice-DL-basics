{
 "cells": [
  {
   "cell_type": "markdown",
   "metadata": {},
   "source": [
    "# MNIST Basic for TensorFlow Practice"
   ]
  },
  {
   "cell_type": "code",
   "execution_count": null,
   "metadata": {
    "collapsed": true
   },
   "outputs": [],
   "source": [
    "import tensorflow as tf\n",
    "from tensorflow.examples.tutorials.mnist import input_data\n",
    "import matplotlib.pyplot as plt\n",
    "import random"
   ]
  },
  {
   "cell_type": "code",
   "execution_count": 2,
   "metadata": {
    "scrolled": true
   },
   "outputs": [
    {
     "name": "stdout",
     "output_type": "stream",
     "text": [
      "Extracting MNIST_data/train-images-idx3-ubyte.gz\n",
      "Extracting MNIST_data/train-labels-idx1-ubyte.gz\n",
      "Extracting MNIST_data/t10k-images-idx3-ubyte.gz\n",
      "Extracting MNIST_data/t10k-labels-idx1-ubyte.gz\n"
     ]
    }
   ],
   "source": [
    "mnist = input_data.read_data_sets('MNIST_data/', one_hot=True)"
   ]
  },
  {
   "cell_type": "markdown",
   "metadata": {
    "collapsed": true
   },
   "source": [
    "#### 그래프 만들기"
   ]
  },
  {
   "cell_type": "code",
   "execution_count": 3,
   "metadata": {
    "collapsed": true
   },
   "outputs": [],
   "source": [
    "# 0부터 9까지 10개의 클래스"
   ]
  },
  {
   "cell_type": "code",
   "execution_count": 4,
   "metadata": {
    "collapsed": true
   },
   "outputs": [],
   "source": [
    "nb_classes = 10"
   ]
  },
  {
   "cell_type": "code",
   "execution_count": 5,
   "metadata": {
    "collapsed": true
   },
   "outputs": [],
   "source": [
    "# tensorflow graph input\n",
    "X = tf.placeholder(tf.float32, shape=[None, 784], name='X') # mnist data image of shape 28 * 28 = 784\n",
    "Y = tf.placeholder(tf.float32, shape=[None, nb_classes], name='Y')"
   ]
  },
  {
   "cell_type": "code",
   "execution_count": 6,
   "metadata": {
    "collapsed": true
   },
   "outputs": [],
   "source": [
    "W = tf.Variable(tf.random_normal(shape=[784, nb_classes]), name=\"weight\")\n",
    "b = tf.Variable(tf.random_normal(shape=[nb_classes]), name='bias')"
   ]
  },
  {
   "cell_type": "markdown",
   "metadata": {},
   "source": [
    "#### Hypothesis (using Softmax)"
   ]
  },
  {
   "cell_type": "code",
   "execution_count": 7,
   "metadata": {
    "collapsed": true
   },
   "outputs": [],
   "source": [
    "y_ = tf.nn.softmax(tf.matmul(X, W)+b)"
   ]
  },
  {
   "cell_type": "markdown",
   "metadata": {},
   "source": [
    "#### Cost 함수"
   ]
  },
  {
   "cell_type": "code",
   "execution_count": 8,
   "metadata": {
    "collapsed": true
   },
   "outputs": [],
   "source": [
    "cost = tf.reduce_mean(-tf.reduce_sum(Y * tf.log(y_), axis=1))"
   ]
  },
  {
   "cell_type": "code",
   "execution_count": 9,
   "metadata": {
    "collapsed": true
   },
   "outputs": [],
   "source": [
    "learning_rate = 0.1"
   ]
  },
  {
   "cell_type": "code",
   "execution_count": 10,
   "metadata": {
    "collapsed": true
   },
   "outputs": [],
   "source": [
    "train_step = tf.train.GradientDescentOptimizer(learning_rate=learning_rate).minimize(cost)"
   ]
  },
  {
   "cell_type": "markdown",
   "metadata": {
    "collapsed": true
   },
   "source": [
    "#### 테스트 모델"
   ]
  },
  {
   "cell_type": "code",
   "execution_count": 11,
   "metadata": {
    "collapsed": true
   },
   "outputs": [],
   "source": [
    "# Y, y_의 arg_max 값이 같은지 True, False로 확인"
   ]
  },
  {
   "cell_type": "code",
   "execution_count": 12,
   "metadata": {
    "collapsed": true
   },
   "outputs": [],
   "source": [
    "is_correct = tf.equal(tf.argmax(y_, 1), tf.argmax(Y, 1))"
   ]
  },
  {
   "cell_type": "code",
   "execution_count": 13,
   "metadata": {
    "collapsed": true
   },
   "outputs": [],
   "source": [
    "# Accuracy 계산\n",
    "# is_correct를 float 형으로 바꾸어 평균 계산"
   ]
  },
  {
   "cell_type": "code",
   "execution_count": 14,
   "metadata": {
    "collapsed": true
   },
   "outputs": [],
   "source": [
    "accuracy = tf.reduce_mean(tf.cast(is_correct, tf.float32))"
   ]
  },
  {
   "cell_type": "markdown",
   "metadata": {},
   "source": [
    "#### 학습하기"
   ]
  },
  {
   "cell_type": "code",
   "execution_count": 15,
   "metadata": {
    "collapsed": true
   },
   "outputs": [],
   "source": [
    "# parameter\n",
    "training_epochs = 15\n",
    "batch_size = 100"
   ]
  },
  {
   "cell_type": "code",
   "execution_count": 16,
   "metadata": {},
   "outputs": [
    {
     "name": "stdout",
     "output_type": "stream",
     "text": [
      "Epoch: 0001 cost=  2.871531\n",
      "Epoch: 0002 cost=  1.081440\n",
      "Epoch: 0003 cost=  0.855064\n",
      "Epoch: 0004 cost=  0.744233\n",
      "Epoch: 0005 cost=  0.675698\n",
      "Epoch: 0006 cost=  0.627569\n",
      "Epoch: 0007 cost=  0.591832\n",
      "Epoch: 0008 cost=  0.562993\n",
      "Epoch: 0009 cost=  0.539481\n",
      "Epoch: 0010 cost=  0.520565\n",
      "Epoch: 0011 cost=  0.503998\n",
      "Epoch: 0012 cost=  0.489824\n",
      "Epoch: 0013 cost=  0.476999\n",
      "Epoch: 0014 cost=  0.465456\n",
      "Epoch: 0015 cost=  0.455444\n",
      "Traing Finish\n",
      "Accuracy: 0.8917\n",
      "Label: [9]\n",
      "Prediction: [9]\n"
     ]
    },
    {
     "data": {
      "image/png": "[encoded data removed]",
      "text/plain": [
       "<matplotlib.figure.Figure at 0x11b9cbef0>"
      ]
     },
     "metadata": {},
     "output_type": "display_data"
    }
   ],
   "source": [
    "# 세션 열기\n",
    "with tf.Session() as sess:\n",
    "    sess.run(tf.global_variables_initializer())\n",
    "    \n",
    "    # Training Cycle\n",
    "    # 15번 학습\n",
    "    \n",
    "    for epoch in range(training_epochs):\n",
    "        avg_cost = 0\n",
    "        \n",
    "        # 전체 Size를 batch_size 로 잘라서 학습\n",
    "        # 한번에 몇 개씩 학습할 것인지 설정\n",
    "        total_batch = int(mnist.train.num_examples/batch_size)\n",
    "        \n",
    "        for i in range(total_batch):\n",
    "            # x_data, y_data\n",
    "            batch_xs, batch_ys = mnist.train.next_batch(batch_size)\n",
    "            #cost 계산\n",
    "            c,_ = sess.run([cost, train_step], feed_dict={X:batch_xs, Y:batch_ys})\n",
    "            # batch_size만큼 나눠서 avg_cost의 합 계산\n",
    "            avg_cost += c/total_batch\n",
    "            \n",
    "        print('Epoch:', '%04d' % (epoch+1), 'cost=', '{:9f}'.format(avg_cost))\n",
    "        \n",
    "    print(\"Traing Finish\")\n",
    "    print(\"Accuracy:\", accuracy.eval(session=sess, feed_dict={X: mnist.test.images, Y:mnist.test.labels}))\n",
    "\n",
    "    # Random 숫자 가져오기\n",
    "    r = random.randint(0, mnist.test.num_examples-1)\n",
    "\n",
    "    # Test할 data 숫자 읽기\n",
    "    print(\"Label:\", sess.run(tf.argmax(mnist.test.labels[r:r+1], 1)))\n",
    "    \n",
    "    # Random 데이터를 학습시킬 모델을 통해 예측\n",
    "    print(\"Prediction:\", sess.run(tf.argmax(y_, 1), feed_dict={X:mnist.test.images[r:r+1]}))\n",
    "    \n",
    "    # random으로 선택한 숫자 이미지 그래프로 보여주기\n",
    "    plt.imshow(mnist.test.images[r:r+1].reshape(28,28), cmap='Greys', interpolation= 'nearest')\n",
    "    plt.show()\n",
    "    \n",
    "    # 모델 저장\n",
    "#     saver = tf.train.Saver()\n",
    "#     save_path = saver.save(sess, \"./mnist_softmax.ckpt\")\n",
    "\n",
    "\n",
    "#     print (os.getcwd())\n",
    "#     print(\"Model saved in file: \", save_path)"
   ]
  },
  {
   "cell_type": "markdown",
   "metadata": {
    "collapsed": true
   },
   "source": [
    "### Referece\n",
    "- [모두의 딥러닝](https://youtu.be/ktd5yrki_KA)"
   ]
  },
  {
   "cell_type": "code",
   "execution_count": null,
   "metadata": {
    "collapsed": true
   },
   "outputs": [],
   "source": []
  },
  {
   "cell_type": "code",
   "execution_count": null,
   "metadata": {
    "collapsed": true
   },
   "outputs": [],
   "source": []
  }
 ],
 "metadata": {
  "kernelspec": {
   "display_name": "Python 3",
   "language": "python",
   "name": "python3"
  },
  "language_info": {
   "codemirror_mode": {
    "name": "ipython",
    "version": 3
   },
   "file_extension": ".py",
   "mimetype": "text/x-python",
   "name": "python",
   "nbconvert_exporter": "python",
   "pygments_lexer": "ipython3",
   "version": "3.5.1"
  }
 },
 "nbformat": 4,
 "nbformat_minor": 2
}
