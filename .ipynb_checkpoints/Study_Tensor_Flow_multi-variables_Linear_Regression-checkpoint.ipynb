{
 "cells": [
  {
   "cell_type": "code",
   "execution_count": 1,
   "metadata": {
    "collapsed": true
   },
   "outputs": [],
   "source": [
    "import numpy as np\n",
    "import tensorflow as tf"
   ]
  },
  {
   "cell_type": "code",
   "execution_count": 54,
   "metadata": {},
   "outputs": [],
   "source": [
    "# X_data = np.random.randint(10, size=[5, 4])\n",
    "# y_data = np.random.randint(10, size = [5, 1])"
   ]
  },
  {
   "cell_type": "code",
   "execution_count": 78,
   "metadata": {},
   "outputs": [],
   "source": [
    "X_data = np.array([[80, 40, 35, 50], [45, 90, 25, 66], [10, 80, 40 ,100]])\n",
    "y_data = np.array([[80], [40], [90]])"
   ]
  },
  {
   "cell_type": "code",
   "execution_count": 79,
   "metadata": {},
   "outputs": [
    {
     "data": {
      "text/plain": [
       "((3, 4), (3, 1))"
      ]
     },
     "execution_count": 79,
     "metadata": {},
     "output_type": "execute_result"
    }
   ],
   "source": [
    "X_data.shape, y_data.shape"
   ]
  },
  {
   "cell_type": "code",
   "execution_count": 62,
   "metadata": {
    "collapsed": true
   },
   "outputs": [],
   "source": [
    "X = tf.placeholder(tf.float32, shape=[None, 4], name=\"X\")\n",
    "Y = tf.placeholder(tf.float32, shape=[None, 1], name=\"Y\")"
   ]
  },
  {
   "cell_type": "code",
   "execution_count": 63,
   "metadata": {
    "collapsed": true
   },
   "outputs": [],
   "source": [
    "W = tf.Variable(tf.random_normal([4, 1]), name=\"weight\")\n",
    "b = tf.Variable(tf.random_normal([1]), name=\"bias\")"
   ]
  },
  {
   "cell_type": "code",
   "execution_count": 64,
   "metadata": {},
   "outputs": [],
   "source": [
    "hypothesis =  tf.matmul(X, W) + b"
   ]
  },
  {
   "cell_type": "code",
   "execution_count": 65,
   "metadata": {
    "collapsed": true
   },
   "outputs": [],
   "source": [
    "cost = tf.reduce_sum(tf.square(hypothesis - Y))"
   ]
  },
  {
   "cell_type": "code",
   "execution_count": 105,
   "metadata": {
    "collapsed": true
   },
   "outputs": [],
   "source": [
    "learning_rate = 0.01"
   ]
  },
  {
   "cell_type": "code",
   "execution_count": 106,
   "metadata": {
    "collapsed": true
   },
   "outputs": [],
   "source": [
    "optimizer = tf.train.GradientDescentOptimizer(learning_rate=learning_rate)"
   ]
  },
  {
   "cell_type": "code",
   "execution_count": 107,
   "metadata": {
    "collapsed": true
   },
   "outputs": [],
   "source": [
    "train = optimizer.minimize(cost)"
   ]
  },
  {
   "cell_type": "code",
   "execution_count": 108,
   "metadata": {
    "collapsed": true
   },
   "outputs": [],
   "source": [
    "sess = tf.Session()"
   ]
  },
  {
   "cell_type": "code",
   "execution_count": 109,
   "metadata": {},
   "outputs": [],
   "source": [
    "sess.run(tf.global_variables_initializer())"
   ]
  },
  {
   "cell_type": "code",
   "execution_count": 110,
   "metadata": {},
   "outputs": [
    {
     "name": "stdout",
     "output_type": "stream",
     "text": [
      "0 Cost:  17412.5 \n",
      "Prediction\n",
      " [[  64.67415619]\n",
      " [ 121.47432709]\n",
      " [ 192.66217041]]\n",
      "1 Cost:  7.50929e+09 \n",
      "Prediction\n",
      " [[-36233.9296875 ]\n",
      " [-52322.25390625]\n",
      " [-58636.3125    ]]\n",
      "2 Cost:  4.82313e+15 \n",
      "Prediction\n",
      " [[ 32609816.]\n",
      " [ 41943252.]\n",
      " [ 44727016.]]\n",
      "3 Cost:  3.11167e+21 \n",
      "Prediction\n",
      " [[ -2.64620380e+10]\n",
      " [ -3.36927519e+10]\n",
      " [ -3.57243085e+10]]\n",
      "4 Cost:  2.0076e+27 \n",
      "Prediction\n",
      " [[  2.12765591e+13]\n",
      " [  2.70635054e+13]\n",
      " [  2.86787864e+13]]\n",
      "5 Cost:  1.29527e+33 \n",
      "Prediction\n",
      " [[ -1.70917504e+16]\n",
      " [ -2.17383499e+16]\n",
      " [ -2.30344722e+16]]\n",
      "6 Cost:  inf \n",
      "Prediction\n",
      " [[  1.37288056e+19]\n",
      " [  1.74609769e+19]\n",
      " [  1.85019637e+19]]\n",
      "7 Cost:  inf \n",
      "Prediction\n",
      " [[ -1.10274510e+22]\n",
      " [ -1.40252462e+22]\n",
      " [ -1.48613924e+22]]\n",
      "8 Cost:  inf \n",
      "Prediction\n",
      " [[  8.85762095e+24]\n",
      " [  1.12655511e+25]\n",
      " [  1.19371717e+25]]\n",
      "9 Cost:  inf \n",
      "Prediction\n",
      " [[ -7.11474036e+27]\n",
      " [ -9.04886938e+27]\n",
      " [ -9.58833718e+27]]\n"
     ]
    }
   ],
   "source": [
    "for step in range(10):\n",
    "    _, hypo, cost_val = sess.run([train, hypothesis, cost], feed_dict={X:X_data, Y:y_data})\n",
    "    print(step, \"Cost: \", cost_val, \"\\nPrediction\\n\", hypo)\n"
   ]
  },
  {
   "cell_type": "code",
   "execution_count": 111,
   "metadata": {},
   "outputs": [
    {
     "name": "stdout",
     "output_type": "stream",
     "text": [
      "[[  6.12153431e+30]]\n"
     ]
    }
   ],
   "source": [
    "print(sess.run(hypothesis, feed_dict={X:[[70, 60, 50, 40]]}))"
   ]
  },
  {
   "cell_type": "code",
   "execution_count": 112,
   "metadata": {
    "collapsed": true
   },
   "outputs": [],
   "source": [
    "sess.close()"
   ]
  },
  {
   "cell_type": "code",
   "execution_count": null,
   "metadata": {
    "collapsed": true
   },
   "outputs": [],
   "source": []
  }
 ],
 "metadata": {
  "kernelspec": {
   "display_name": "Python 3",
   "language": "python",
   "name": "python3"
  },
  "language_info": {
   "codemirror_mode": {
    "name": "ipython",
    "version": 3
   },
   "file_extension": ".py",
   "mimetype": "text/x-python",
   "name": "python",
   "nbconvert_exporter": "python",
   "pygments_lexer": "ipython3",
   "version": "3.5.1"
  }
 },
 "nbformat": 4,
 "nbformat_minor": 2
}
